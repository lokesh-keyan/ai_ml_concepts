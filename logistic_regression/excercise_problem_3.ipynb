{
 "cells": [
  {
   "attachments": {},
   "cell_type": "markdown",
   "metadata": {},
   "source": [
    "# Problem 3\n",
    "## Problem description\n",
    "So far, we have worked with ~2 dimensional problems with 2-3 classes. Most often in ML, there are many more explanatory variables and classes than this. In this problem, you'll be training logistic regression models on a database of grayscale images of hand-drawn digits, using SciKit-Learn. Now there are 400 (20x20) input features and 10 classes (digits 0-9).\n",
    "\n",
    "As usual, you can use any code from previous problems.\n",
    "\n",
    "## Summary of deliverables\n",
    "- OvR model accuracy on training data\n",
    "- OvR model accuracy on testing data\n",
    "- Multinomial model accuracy on training data\n",
    "- Multinomial model accuracy on testing data\n",
    "\n",
    "\n",
    "### Imports and Utility Functions:\n"
   ]
  },
  {
   "cell_type": "code",
   "execution_count": 11,
   "metadata": {},
   "outputs": [],
   "source": [
    "import numpy as np\n",
    "import matplotlib.pyplot as plt\n",
    "from sklearn.linear_model import LogisticRegression\n",
    "from sklearn.metrics import accuracy_score\n",
    "from sklearn.multiclass import OneVsRestClassifier\n",
    "\n",
    "def visualize(xdata, index, title=\"\"):\n",
    "    image = xdata[index,:].reshape(20,20).T\n",
    "    plt.figure()\n",
    "    plt.imshow(image,cmap = \"binary\")\n",
    "    plt.axis(\"off\")\n",
    "    plt.title(title)\n",
    "    plt.show()"
   ]
  },
  {
   "attachments": {},
   "cell_type": "markdown",
   "metadata": {},
   "source": [
    "## Load data\n",
    "The following cell loads in training and testing data into the following variables:\n",
    "- `x_train`: 4000x400 array of input features, used for training\n",
    "- `y_train`: Array of ground-truth classes for each point in `x_train`\n",
    "- `x_test`: 1000x400 array of input features, used for testing\n",
    "- `y_test`: Array of ground-truth classes for each point in `x_test`\n",
    "\n",
    "\n",
    "You can visualize a digit with the `visualize(x_data, index)` function."
   ]
  },
  {
   "cell_type": "code",
   "execution_count": 12,
   "metadata": {},
   "outputs": [
    {
     "data": {
      "image/png": "[encoded data removed]",
      "text/plain": [
       "<Figure size 640x480 with 1 Axes>"
      ]
     },
     "metadata": {},
     "output_type": "display_data"
    }
   ],
   "source": [
    "x_train = np.load(\"data/w3-hw3-train_x.npy\")\n",
    "y_train = np.load(\"data/w3-hw3-train_y.npy\")\n",
    "x_test = np.load(\"data/w3-hw3-test_x.npy\")\n",
    "y_test = np.load(\"data/w3-hw3-test_y.npy\")\n",
    "\n",
    "visualize(x_train,1234)"
   ]
  },
  {
   "attachments": {},
   "cell_type": "markdown",
   "metadata": {},
   "source": [
    "## Logistic Regression Models\n",
    "\n",
    "Use sklearn's `LogisticRegression` to fit a multinomial logistic regression model on the training data. You may need to increase the `max_iter` argument for the model to converge.\n",
    "\n",
    "Train 2 models: one using the One-vs-Rest method, and another that minimizes multinomial loss. You can do these by setting the `multi_class` argument to \"ovr\" and \"multinomial\", respectively.  \n",
    "\n",
    "More information: https://scikit-learn.org/stable/modules/generated/sklearn.linear_model.LogisticRegression.html"
   ]
  },
  {
   "cell_type": "code",
   "execution_count": 17,
   "metadata": {},
   "outputs": [],
   "source": [
    "ovr_model = OneVsRestClassifier( LogisticRegression(max_iter=5000, solver=\"liblinear\", random_state=42))\n",
    "ovr_model.fit(x_train, y_train)\n",
    "\n",
    "y_train_pred_ovr = ovr_model.predict(x_train)\n",
    "y_test_pred_ovr = ovr_model.predict(x_test)\n",
    "\n",
    "multinomial_model = LogisticRegression(max_iter=5000, solver='lbfgs', random_state=42)\n",
    "multinomial_model.fit(x_train, y_train)\n",
    "\n",
    "y_train_pred_multi = multinomial_model.predict(x_train)\n",
    "y_test_pred_multi = multinomial_model.predict(x_test)"
   ]
  },
  {
   "attachments": {},
   "cell_type": "markdown",
   "metadata": {},
   "source": [
    "## Accuracy\n",
    "\n",
    "Compute and print the accuracy of each model on the training and testing sets as a percent."
   ]
  },
  {
   "cell_type": "code",
   "execution_count": 18,
   "metadata": {},
   "outputs": [
    {
     "name": "stdout",
     "output_type": "stream",
     "text": [
      "OvR Training Accuracy: 94.825\n",
      "OvR Testing Accuracy:  90.700\n",
      "Multinomial Training Accuracy: 96.450\n",
      "Multinomial Testing Accuracy:  91.400\n"
     ]
    }
   ],
   "source": [
    "ovr_train_accuracy = accuracy_score(y_train, y_train_pred_ovr)\n",
    "ovr_test_accuracy = accuracy_score(y_test, y_test_pred_ovr)\n",
    "multinomial_train_accuracy = accuracy_score(y_train, y_train_pred_multi)\n",
    "multinomial_test_accuracy = accuracy_score(y_test, y_test_pred_multi)\n",
    "print(f\"OvR Training Accuracy: {ovr_train_accuracy * 100:.3f}\")\n",
    "print(f\"OvR Testing Accuracy:  {ovr_test_accuracy * 100:.3f}\")\n",
    "print(f\"Multinomial Training Accuracy: {multinomial_train_accuracy * 100:.3f}\")\n",
    "print(f\"Multinomial Testing Accuracy:  {multinomial_test_accuracy * 100:.3f}\")"
   ]
  }
 ],
 "metadata": {
  "kernelspec": {
   "display_name": "Python 3 (ipykernel)",
   "language": "python",
   "name": "python3"
  },
  "language_info": {
   "codemirror_mode": {
    "name": "ipython",
    "version": 3
   },
   "file_extension": ".py",
   "mimetype": "text/x-python",
   "name": "python",
   "nbconvert_exporter": "python",
   "pygments_lexer": "ipython3",
   "version": "3.11.6"
  }
 },
 "nbformat": 4,
 "nbformat_minor": 4
}

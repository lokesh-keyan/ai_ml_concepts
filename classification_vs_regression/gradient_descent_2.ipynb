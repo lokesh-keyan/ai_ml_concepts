{
 "cells": [
  {
   "cell_type": "markdown",
   "metadata": {},
   "source": [
    "\n",
    "## Problem Description\n",
    "\n",
    "In this problem you will implement gradient descent on the following function: $f(x) = x^2 + 3x +6\\textrm{sin}(x)$. You will define your own gradient function $\\texttt{fgrad}(x)$, and then using the provided learning rate $\\eta = 0.15$ and initial guess $x_0 = 8$, you will print the value of $x$ and $f(x)$ for the first 10 iterations.\n",
    "\n",
    "\n",
    "Fill out the notebook as instructed, making the requested plots and printing necessary values. \n",
    "\n",
    "#### Summary of deliverables:\n",
    "Functions:\n",
    "- `fgrad(x)`\n",
    "\n",
    "Results:\n",
    "- Printed values of $x$ and $f(x)$ for the first 10 iterations of gradient descent\n",
    "\n",
    "Discussion:\n",
    "- Do your printed values appear to be converging towards the minimum of the function?\n",
    "\n",
    "Imports and provided functions:"
   ]
  },
  {
   "cell_type": "code",
   "execution_count": 3,
   "metadata": {},
   "outputs": [
    {
     "data": {
      "image/png": "[encoded data removed]",
      "text/plain": [
       "<Figure size 640x480 with 1 Axes>"
      ]
     },
     "metadata": {},
     "output_type": "display_data"
    }
   ],
   "source": [
    "import numpy as np\n",
    "import matplotlib.pyplot as plt\n",
    "\n",
    "def f(x):\n",
    "    return x**2 + 3*x + 6*np.sin(x)\n",
    "\n",
    "def plotfx():\n",
    "    # Sample function\n",
    "    xs = np.linspace(-12,10,100)\n",
    "    ys = f(xs)\n",
    "    # Plot function\n",
    "    plt.plot(xs,ys,'r-')\n",
    "    plt.xlabel('$x$')\n",
    "    plt.ylabel('$f(x)$')\n",
    "    plt.show()\n",
    "\n",
    "# Visualize the function\n",
    "plotfx()"
   ]
  },
  {
   "cell_type": "markdown",
   "metadata": {},
   "source": [
    "### First define the function $\\texttt{fgrad}(x)$"
   ]
  },
  {
   "cell_type": "code",
   "execution_count": 4,
   "metadata": {},
   "outputs": [],
   "source": [
    "def fgrad(x):\n",
    "    return 2*x + 3 + 6*np.cos(x)\n"
   ]
  },
  {
   "cell_type": "markdown",
   "metadata": {},
   "source": [
    "### Fill in the following code with the gradient descent update rule\n",
    "For reference, your 10th iteration should have $x = -1.554$ and $f(x) = -8.246$"
   ]
  },
  {
   "cell_type": "code",
   "execution_count": 5,
   "metadata": {},
   "outputs": [
    {
     "name": "stdout",
     "output_type": "stream",
     "text": [
      "Iteration 1, x = 5.281, f(x) = 38.675\n",
      "Iteration 2, x = 2.762, f(x) = 18.138\n",
      "Iteration 3, x = 2.319, f(x) = 16.734\n",
      "Iteration 4, x = 1.786, f(x) = 14.410\n",
      "Iteration 5, x = 0.993, f(x) = 8.988\n",
      "Iteration 6, x = -0.247, f(x) = -2.147\n",
      "Iteration 7, x = -1.496, f(x) = -8.233\n",
      "Iteration 8, x = -1.565, f(x) = -8.246\n",
      "Iteration 9, x = -1.551, f(x) = -8.246\n",
      "Iteration 10, x = -1.554, f(x) = -8.246\n"
     ]
    }
   ],
   "source": [
    "iter = 10\n",
    "eta = 0.15\n",
    "x = 8\n",
    "\n",
    "for i in range(iter):\n",
    "    x = x - eta * fgrad(x)  \n",
    "    print('Iteration %d, x = %.3f, f(x) = %.3f' %(i+1, x, f(x)))"
   ]
  },
  {
   "cell_type": "markdown",
   "metadata": {},
   "source": [
    "### Briefly discuss whether your printed values of $x$ and $f(x)$ appear to have converged to the minimum of the function. \n",
    "Feel free to refer to the provided plot of $f(x)$ above"
   ]
  },
  {
   "cell_type": "markdown",
   "metadata": {},
   "source": [
    "Your response goes here\n",
    "\n"
   ]
  },
  {
   "cell_type": "markdown",
   "metadata": {},
   "source": [
    "x is decreasing step by step from initial 8. f(x) is also getting smaller each time. This shows convergence. I increased the \n",
    "iter just to check and that showed the values don't go below the values we got at iter10 proving it has converged to the minimum of the function."
   ]
  }
 ],
 "metadata": {
  "kernelspec": {
   "display_name": "Python 3 (ipykernel)",
   "language": "python",
   "name": "python3"
  },
  "language_info": {
   "codemirror_mode": {
    "name": "ipython",
    "version": 3
   },
   "file_extension": ".py",
   "mimetype": "text/x-python",
   "name": "python",
   "nbconvert_exporter": "python",
   "pygments_lexer": "ipython3",
   "version": "3.11.6"
  }
 },
 "nbformat": 4,
 "nbformat_minor": 4
}
